{
 "cells": [
  {
   "cell_type": "code",
   "execution_count": 1,
   "id": "9afcb9b8-a213-47db-b992-bf966d78a84b",
   "metadata": {},
   "outputs": [],
   "source": [
    "import pandas as pd \n",
    "import numpy as np\n",
    "import matplotlib.pyplot as plt "
   ]
  },
  {
   "cell_type": "code",
   "execution_count": 2,
   "id": "9f03e2c6-a3bf-48ee-bff5-ebab096e2c5c",
   "metadata": {},
   "outputs": [],
   "source": [
    "planned_duration =[0,2,3,4,5,6,3]\n",
    "TPV = [0,1,1,1,1,7,1]\n",
    "TEV = [0,2,2,2,4,7,1]\n",
    "TAC = [0,3,2,2,2,7,1]"
   ]
  },
  {
   "cell_type": "code",
   "execution_count": 3,
   "id": "ad24e0a5-c72b-4aba-9d31-5e1514a126cf",
   "metadata": {},
   "outputs": [],
   "source": [
    "def commulation(lista):\n",
    "    sum1 = 0\n",
    "    listb= []\n",
    "    for i in lista:\n",
    "        sum1+=i\n",
    "        listb.append(sum1)\n",
    "    \n",
    "    return listb\n",
    "TAC = commulation(TAC)\n",
    "TPV = commulation(TPV)\n",
    "TEV = commulation(TEV)\n",
    "planned_duration = commulation(planned_duration)"
   ]
  },
  {
   "cell_type": "code",
   "execution_count": 4,
   "id": "e0c30c7a-d958-40bb-bb79-9b065e9ca3ad",
   "metadata": {},
   "outputs": [
    {
     "data": {
      "text/plain": [
       "[0, 2, 5, 9, 14, 20, 23]"
      ]
     },
     "execution_count": 4,
     "metadata": {},
     "output_type": "execute_result"
    }
   ],
   "source": [
    "planned_duration"
   ]
  },
  {
   "cell_type": "code",
   "execution_count": 5,
   "id": "67433345-5056-4f94-b88e-932f89ccbfef",
   "metadata": {},
   "outputs": [],
   "source": [
    "def multiple_points(lista):\n",
    "    listb = []\n",
    "    for i in range(int(min(lista)),int(max(lista))*10):\n",
    "         \n",
    "        listb.append(i/10)\n",
    "    return listb\n",
    "TAC_points = multiple_points(TAC)\n",
    "TPV_points = multiple_points(TPV)\n",
    "TEV_points = multiple_points(TEV)\n",
    "planned_duration_points = multiple_points(planned_duration)"
   ]
  },
  {
   "cell_type": "code",
   "execution_count": 6,
   "id": "e4394bb5",
   "metadata": {},
   "outputs": [
    {
     "data": {
      "text/plain": [
       "[0.0,\n",
       " 0.1,\n",
       " 0.2,\n",
       " 0.3,\n",
       " 0.4,\n",
       " 0.5,\n",
       " 0.6,\n",
       " 0.7,\n",
       " 0.8,\n",
       " 0.9,\n",
       " 1.0,\n",
       " 1.1,\n",
       " 1.2,\n",
       " 1.3,\n",
       " 1.4,\n",
       " 1.5,\n",
       " 1.6,\n",
       " 1.7,\n",
       " 1.8,\n",
       " 1.9,\n",
       " 2.0,\n",
       " 2.1,\n",
       " 2.2,\n",
       " 2.3,\n",
       " 2.4,\n",
       " 2.5,\n",
       " 2.6,\n",
       " 2.7,\n",
       " 2.8,\n",
       " 2.9,\n",
       " 3.0,\n",
       " 3.1,\n",
       " 3.2,\n",
       " 3.3,\n",
       " 3.4,\n",
       " 3.5,\n",
       " 3.6,\n",
       " 3.7,\n",
       " 3.8,\n",
       " 3.9,\n",
       " 4.0,\n",
       " 4.1,\n",
       " 4.2,\n",
       " 4.3,\n",
       " 4.4,\n",
       " 4.5,\n",
       " 4.6,\n",
       " 4.7,\n",
       " 4.8,\n",
       " 4.9,\n",
       " 5.0,\n",
       " 5.1,\n",
       " 5.2,\n",
       " 5.3,\n",
       " 5.4,\n",
       " 5.5,\n",
       " 5.6,\n",
       " 5.7,\n",
       " 5.8,\n",
       " 5.9,\n",
       " 6.0,\n",
       " 6.1,\n",
       " 6.2,\n",
       " 6.3,\n",
       " 6.4,\n",
       " 6.5,\n",
       " 6.6,\n",
       " 6.7,\n",
       " 6.8,\n",
       " 6.9,\n",
       " 7.0,\n",
       " 7.1,\n",
       " 7.2,\n",
       " 7.3,\n",
       " 7.4,\n",
       " 7.5,\n",
       " 7.6,\n",
       " 7.7,\n",
       " 7.8,\n",
       " 7.9,\n",
       " 8.0,\n",
       " 8.1,\n",
       " 8.2,\n",
       " 8.3,\n",
       " 8.4,\n",
       " 8.5,\n",
       " 8.6,\n",
       " 8.7,\n",
       " 8.8,\n",
       " 8.9,\n",
       " 9.0,\n",
       " 9.1,\n",
       " 9.2,\n",
       " 9.3,\n",
       " 9.4,\n",
       " 9.5,\n",
       " 9.6,\n",
       " 9.7,\n",
       " 9.8,\n",
       " 9.9,\n",
       " 10.0,\n",
       " 10.1,\n",
       " 10.2,\n",
       " 10.3,\n",
       " 10.4,\n",
       " 10.5,\n",
       " 10.6,\n",
       " 10.7,\n",
       " 10.8,\n",
       " 10.9,\n",
       " 11.0,\n",
       " 11.1,\n",
       " 11.2,\n",
       " 11.3,\n",
       " 11.4,\n",
       " 11.5,\n",
       " 11.6,\n",
       " 11.7,\n",
       " 11.8,\n",
       " 11.9,\n",
       " 12.0,\n",
       " 12.1,\n",
       " 12.2,\n",
       " 12.3,\n",
       " 12.4,\n",
       " 12.5,\n",
       " 12.6,\n",
       " 12.7,\n",
       " 12.8,\n",
       " 12.9,\n",
       " 13.0,\n",
       " 13.1,\n",
       " 13.2,\n",
       " 13.3,\n",
       " 13.4,\n",
       " 13.5,\n",
       " 13.6,\n",
       " 13.7,\n",
       " 13.8,\n",
       " 13.9,\n",
       " 14.0,\n",
       " 14.1,\n",
       " 14.2,\n",
       " 14.3,\n",
       " 14.4,\n",
       " 14.5,\n",
       " 14.6,\n",
       " 14.7,\n",
       " 14.8,\n",
       " 14.9,\n",
       " 15.0,\n",
       " 15.1,\n",
       " 15.2,\n",
       " 15.3,\n",
       " 15.4,\n",
       " 15.5,\n",
       " 15.6,\n",
       " 15.7,\n",
       " 15.8,\n",
       " 15.9,\n",
       " 16.0,\n",
       " 16.1,\n",
       " 16.2,\n",
       " 16.3,\n",
       " 16.4,\n",
       " 16.5,\n",
       " 16.6,\n",
       " 16.7,\n",
       " 16.8,\n",
       " 16.9,\n",
       " 17.0,\n",
       " 17.1,\n",
       " 17.2,\n",
       " 17.3,\n",
       " 17.4,\n",
       " 17.5,\n",
       " 17.6,\n",
       " 17.7,\n",
       " 17.8,\n",
       " 17.9,\n",
       " 18.0,\n",
       " 18.1,\n",
       " 18.2,\n",
       " 18.3,\n",
       " 18.4,\n",
       " 18.5,\n",
       " 18.6,\n",
       " 18.7,\n",
       " 18.8,\n",
       " 18.9,\n",
       " 19.0,\n",
       " 19.1,\n",
       " 19.2,\n",
       " 19.3,\n",
       " 19.4,\n",
       " 19.5,\n",
       " 19.6,\n",
       " 19.7,\n",
       " 19.8,\n",
       " 19.9,\n",
       " 20.0,\n",
       " 20.1,\n",
       " 20.2,\n",
       " 20.3,\n",
       " 20.4,\n",
       " 20.5,\n",
       " 20.6,\n",
       " 20.7,\n",
       " 20.8,\n",
       " 20.9,\n",
       " 21.0,\n",
       " 21.1,\n",
       " 21.2,\n",
       " 21.3,\n",
       " 21.4,\n",
       " 21.5,\n",
       " 21.6,\n",
       " 21.7,\n",
       " 21.8,\n",
       " 21.9,\n",
       " 22.0,\n",
       " 22.1,\n",
       " 22.2,\n",
       " 22.3,\n",
       " 22.4,\n",
       " 22.5,\n",
       " 22.6,\n",
       " 22.7,\n",
       " 22.8,\n",
       " 22.9]"
      ]
     },
     "execution_count": 6,
     "metadata": {},
     "output_type": "execute_result"
    }
   ],
   "source": [
    "planned_duration_points"
   ]
  },
  {
   "cell_type": "code",
   "execution_count": 7,
   "id": "7474d107",
   "metadata": {},
   "outputs": [
    {
     "data": {
      "text/plain": [
       "True"
      ]
     },
     "execution_count": 7,
     "metadata": {},
     "output_type": "execute_result"
    }
   ],
   "source": [
    "planned_duration[1]>= planned_duration_points[0]"
   ]
  },
  {
   "cell_type": "code",
   "execution_count": 8,
   "id": "784c3ca8",
   "metadata": {},
   "outputs": [
    {
     "data": {
      "text/plain": [
       "[2.0,\n",
       " 2.1,\n",
       " 2.2,\n",
       " 2.3,\n",
       " 2.4,\n",
       " 2.5,\n",
       " 2.6,\n",
       " 2.7,\n",
       " 2.8,\n",
       " 2.9,\n",
       " 3.0,\n",
       " 3.1,\n",
       " 3.2,\n",
       " 3.3,\n",
       " 3.4,\n",
       " 3.5,\n",
       " 3.6,\n",
       " 3.7,\n",
       " 3.8,\n",
       " 3.9,\n",
       " 4.0,\n",
       " 4.1,\n",
       " 4.2,\n",
       " 4.3,\n",
       " 4.4,\n",
       " 4.5,\n",
       " 4.6,\n",
       " 4.7,\n",
       " 4.8,\n",
       " 4.9,\n",
       " 5.0,\n",
       " 5.1,\n",
       " 5.2,\n",
       " 5.3,\n",
       " 5.4,\n",
       " 5.5,\n",
       " 5.6,\n",
       " 5.7,\n",
       " 5.8,\n",
       " 5.9,\n",
       " 6.0,\n",
       " 6.1,\n",
       " 6.2,\n",
       " 6.3,\n",
       " 6.4,\n",
       " 6.5,\n",
       " 6.6,\n",
       " 6.7,\n",
       " 6.8,\n",
       " 6.9,\n",
       " 7.0,\n",
       " 7.1,\n",
       " 7.2,\n",
       " 7.3,\n",
       " 7.4,\n",
       " 7.5,\n",
       " 7.6,\n",
       " 7.7,\n",
       " 7.8,\n",
       " 7.9,\n",
       " 8.0,\n",
       " 8.1,\n",
       " 8.2,\n",
       " 8.3,\n",
       " 8.4,\n",
       " 8.5,\n",
       " 8.6,\n",
       " 8.7,\n",
       " 8.8,\n",
       " 8.9,\n",
       " 9.0,\n",
       " 9.1,\n",
       " 9.2,\n",
       " 9.3,\n",
       " 9.4,\n",
       " 9.5,\n",
       " 9.6,\n",
       " 9.7,\n",
       " 9.8,\n",
       " 9.9,\n",
       " 10.0,\n",
       " 10.1,\n",
       " 10.2,\n",
       " 10.3,\n",
       " 10.4,\n",
       " 10.5,\n",
       " 10.6,\n",
       " 10.7,\n",
       " 10.8,\n",
       " 10.9,\n",
       " 11.0,\n",
       " 11.1,\n",
       " 11.2,\n",
       " 11.3,\n",
       " 11.4,\n",
       " 11.5,\n",
       " 11.6,\n",
       " 11.7,\n",
       " 11.8,\n",
       " 11.9,\n",
       " 12.0,\n",
       " 12.1,\n",
       " 12.2,\n",
       " 12.3,\n",
       " 12.4,\n",
       " 12.5,\n",
       " 12.6,\n",
       " 12.7,\n",
       " 12.8,\n",
       " 12.9,\n",
       " 13.0,\n",
       " 13.1,\n",
       " 13.2,\n",
       " 13.3,\n",
       " 13.4,\n",
       " 13.5,\n",
       " 13.6,\n",
       " 13.7,\n",
       " 13.8,\n",
       " 13.9,\n",
       " 14.0,\n",
       " 14.1,\n",
       " 14.2,\n",
       " 14.3,\n",
       " 14.4,\n",
       " 14.5,\n",
       " 14.6,\n",
       " 14.7,\n",
       " 14.8,\n",
       " 14.9,\n",
       " 15.0,\n",
       " 15.1,\n",
       " 15.2,\n",
       " 15.3,\n",
       " 15.4,\n",
       " 15.5,\n",
       " 15.6,\n",
       " 15.7,\n",
       " 15.8,\n",
       " 15.9,\n",
       " 16.0,\n",
       " 16.1,\n",
       " 16.2,\n",
       " 16.3,\n",
       " 16.4,\n",
       " 16.5,\n",
       " 16.6,\n",
       " 16.7,\n",
       " 16.8,\n",
       " 16.9,\n",
       " 17.0,\n",
       " 17.1,\n",
       " 17.2,\n",
       " 17.3,\n",
       " 17.4,\n",
       " 17.5,\n",
       " 17.6,\n",
       " 17.7,\n",
       " 17.8,\n",
       " 17.9,\n",
       " 18.0,\n",
       " 18.1,\n",
       " 18.2,\n",
       " 18.3,\n",
       " 18.4,\n",
       " 18.5,\n",
       " 18.6,\n",
       " 18.7,\n",
       " 18.8,\n",
       " 18.9,\n",
       " 19.0,\n",
       " 19.1,\n",
       " 19.2,\n",
       " 19.3,\n",
       " 19.4,\n",
       " 19.5,\n",
       " 19.6,\n",
       " 19.7,\n",
       " 19.8,\n",
       " 19.9,\n",
       " 20.0,\n",
       " 20.1,\n",
       " 20.2,\n",
       " 20.3,\n",
       " 20.4,\n",
       " 20.5,\n",
       " 20.6,\n",
       " 20.7,\n",
       " 20.8,\n",
       " 20.9,\n",
       " 21.0,\n",
       " 21.1,\n",
       " 21.2,\n",
       " 21.3,\n",
       " 21.4,\n",
       " 21.5,\n",
       " 21.6,\n",
       " 21.7,\n",
       " 21.8,\n",
       " 21.9,\n",
       " 22.0,\n",
       " 22.1,\n",
       " 22.2,\n",
       " 22.3,\n",
       " 22.4,\n",
       " 22.5,\n",
       " 22.6,\n",
       " 22.7,\n",
       " 22.8,\n",
       " 22.9]"
      ]
     },
     "execution_count": 8,
     "metadata": {},
     "output_type": "execute_result"
    }
   ],
   "source": [
    "graph_points = []\n",
    "\n",
    "for i in planned_duration_points:\n",
    "    \n",
    "    if int(planned_duration[1])<= i:\n",
    "            graph_points.append(i)\n",
    "graph_points"
   ]
  },
  {
   "cell_type": "code",
   "execution_count": 9,
   "id": "2454c18b-6c5d-4af7-aebb-c13a108b5af2",
   "metadata": {},
   "outputs": [],
   "source": [
    "model_TAC = np.poly1d(np.polyfit(TAC,planned_duration,6))\n",
    "model_TPV = np.poly1d(np.polyfit(TPV,planned_duration,3))\n",
    "model_TEV = np.poly1d(np.polyfit(TEV,planned_duration,4))"
   ]
  },
  {
   "cell_type": "code",
   "execution_count": 10,
   "id": "e1842f2a-4bbd-4b48-9186-056a12034923",
   "metadata": {},
   "outputs": [
    {
     "data": {
      "image/png": "[encoded data removed]",
      "text/plain": [
       "<Figure size 432x288 with 1 Axes>"
      ]
     },
     "metadata": {
      "needs_background": "light"
     },
     "output_type": "display_data"
    }
   ],
   "source": [
    "plt.scatter(TAC,planned_duration,color = 'blue',alpha = 0.2)\n",
    "plt.plot(TAC_points,model_TAC(TAC_points),color = 'magenta')\n",
    "plt.scatter(TEV,planned_duration,color = 'black',alpha=0.5)\n",
    "plt.plot(TEV_points,model_TEV(TEV_points),color = 'brown',alpha=0.5)\n",
    "plt.scatter(TPV,planned_duration,color = 'green',alpha=0.5)\n",
    "plt.plot(TPV_points,model_TPV(TPV_points),color = 'red',alpha=0.5)\n",
    "\n",
    "plt.show()"
   ]
  },
  {
   "cell_type": "code",
   "execution_count": 11,
   "id": "7e71c1f9-8d6a-4af9-91e5-e0660bb67e72",
   "metadata": {},
   "outputs": [
    {
     "data": {
      "image/png": "[encoded data removed]",
      "text/plain": [
       "<Figure size 432x288 with 1 Axes>"
      ]
     },
     "metadata": {
      "needs_background": "light"
     },
     "output_type": "display_data"
    }
   ],
   "source": [
    "import matplotlib.pyplot as plt\n",
    "import numpy as np\n",
    "import pandas as pd\n",
    "from sklearn.linear_model import LinearRegression\n",
    "from sklearn.linear_model import LogisticRegression\n",
    "\n",
    "a = np.array(planned_duration)\n",
    "b1 = TEV\n",
    "b2 = TPV\n",
    "b3 = TAC\n",
    "\n",
    "new_a = a[1:-1]\n",
    "\n",
    "data1 = pd.DataFrame({'x': a, 'y':b1,})\n",
    "data2 = pd.DataFrame({'x': a, 'y':b2,})\n",
    "data3 = pd.DataFrame({'x': a, 'y':b3,})\n",
    "LM1 = LinearRegression()\n",
    "LM1.fit(data1[[\"x\"]],data1[[\"y\"]])\n",
    "\n",
    "LM2 = LinearRegression()\n",
    "LM2.fit(data2[[\"x\"]],data2[[\"y\"]])\n",
    "\n",
    "LM3 = LinearRegression()\n",
    "LM3.fit(data3[[\"x\"]],data3[[\"y\"]])\n",
    "\n",
    "plt.scatter(a,b1)\n",
    "plt.scatter(a,b2)\n",
    "plt.scatter(a,b3)\n",
    "plt.plot([1,23], LM1.predict([[1],[23]]), color = \"red\")\n",
    "plt.plot([1,23], LM2.predict([[1],[23]]), color = \"magenta\")\n",
    "plt.plot([1,23], LM3.predict([[1],[23]]), color = \"green\")\n",
    "plt.show() "
   ]
  },
  {
   "cell_type": "code",
   "execution_count": 12,
   "id": "75e4153e-9fd1-41d6-8b0e-7ab60c5b3cac",
   "metadata": {},
   "outputs": [],
   "source": [
    "from sklearn.preprocessing import MinMaxScaler\n",
    "scaler1 = MinMaxScaler()\n",
    "b1_scaled= scaler1.fit_transform(data1[[\"y\"]])\n",
    "scaler2 = MinMaxScaler()\n",
    "b2_scaled= scaler2.fit_transform(data2[[\"y\"]])\n",
    "scaler3 = MinMaxScaler()\n",
    "b3_scaled= scaler3.fit_transform(data3[[\"y\"]])"
   ]
  },
  {
   "cell_type": "code",
   "execution_count": 13,
   "id": "9ff3ba20-ceba-48e2-a823-be0b9927a874",
   "metadata": {},
   "outputs": [
    {
     "data": {
      "image/png": "[encoded data removed]",
      "text/plain": [
       "<Figure size 432x288 with 1 Axes>"
      ]
     },
     "metadata": {
      "needs_background": "light"
     },
     "output_type": "display_data"
    }
   ],
   "source": [
    "LM1 = LinearRegression()\n",
    "LM1.fit(data1[[\"x\"]],b1_scaled)\n",
    "LM2 = LinearRegression()\n",
    "LM2.fit(data2[[\"x\"]],b2_scaled)\n",
    "LM3 = LinearRegression()\n",
    "LM3.fit(data3[[\"x\"]],b3_scaled)\n",
    "\n",
    "plt.scatter(a,b1_scaled)\n",
    "plt.scatter(a,b2_scaled)\n",
    "plt.scatter(a,b3_scaled)\n",
    "\n",
    "\n",
    "plt.plot([1,23], LM1.predict([[1],[23]]), color = \"red\")\n",
    "plt.plot([1,23], LM2.predict([[1],[23]]), color = \"green\")\n",
    "plt.plot([1,23], LM3.predict([[1],[23]]), color = \"blue\")\n",
    "plt.show() "
   ]
  },
  {
   "cell_type": "code",
   "execution_count": 14,
   "id": "df626df3-2067-4be8-8580-fff1d3a19752",
   "metadata": {},
   "outputs": [],
   "source": [
    "new_b1 = np.array(b1_scaled[1:-1]) # Getting rid of 0 and 1 values\n",
    "new_b2 = np.array(b2_scaled[1:-1]) # Getting rid of 0 and 1 values\n",
    "new_b3 = np.array(b3_scaled[1:-1]) # Getting rid of 0 and 1 values"
   ]
  },
  {
   "cell_type": "code",
   "execution_count": 15,
   "id": "ef35f821-8448-4cd2-99f7-833ed3dd1beb",
   "metadata": {},
   "outputs": [],
   "source": [
    "new_b1 = np.log((1 / new_b1) - 1)\n",
    "new_b2 = np.log((1 / new_b2) - 1)\n",
    "new_b3 = np.log((1 / new_b3) - 1)"
   ]
  },
  {
   "cell_type": "code",
   "execution_count": 16,
   "id": "e028ef9d-dead-4734-ae72-974acd1d402b",
   "metadata": {
    "tags": []
   },
   "outputs": [],
   "source": [
    "model1 = LinearRegression()\n",
    "model1.fit(new_a.reshape(-1, 1), new_b1.reshape(-1, 1))\n",
    "model2 = LinearRegression()\n",
    "model2.fit(new_a.reshape(-1, 1), new_b2.reshape(-1, 1))\n",
    "model3 = LinearRegression()\n",
    "model3.fit(new_a.reshape(-1, 1), new_b3.reshape(-1, 1))\n",
    "\n",
    "#taking beta and alpha from linear to plot values then \n",
    "alpha1 = model1.coef_[0, 0]\n",
    "beta1 = model1.predict([[0]])[0, 0]\n",
    "alpha2 = model2.coef_[0, 0]\n",
    "beta2 = model2.predict([[0]])[0, 0]                              \n",
    "alpha3 = model3.coef_[0, 0]\n",
    "beta3 = model3.predict([[0]])[0, 0]                         "
   ]
  },
  {
   "cell_type": "code",
   "execution_count": 17,
   "id": "434de62a-3b4f-4eeb-8275-d9244bcd597e",
   "metadata": {},
   "outputs": [
    {
     "data": {
      "text/plain": [
       "-0.2563941844771577"
      ]
     },
     "execution_count": 17,
     "metadata": {},
     "output_type": "execute_result"
    }
   ],
   "source": [
    "alpha1"
   ]
  },
  {
   "cell_type": "code",
   "execution_count": 18,
   "id": "ae3d4dcc-84c7-48d5-accf-df5fe1f7b9e9",
   "metadata": {},
   "outputs": [
    {
     "data": {
      "text/plain": [
       "2.173268554194393"
      ]
     },
     "execution_count": 18,
     "metadata": {},
     "output_type": "execute_result"
    }
   ],
   "source": [
    "beta3"
   ]
  },
  {
   "cell_type": "code",
   "execution_count": 19,
   "id": "1b0782d8-4032-4b30-a99c-35cffbe12e27",
   "metadata": {},
   "outputs": [],
   "source": [
    "a_points = np.array(planned_duration_points)"
   ]
  },
  {
   "cell_type": "code",
   "execution_count": 20,
   "id": "363c8a39",
   "metadata": {},
   "outputs": [],
   "source": [
    "graph_points = np.array(graph_points)"
   ]
  },
  {
   "cell_type": "code",
   "execution_count": 21,
   "id": "d9bf9c21",
   "metadata": {
    "scrolled": true
   },
   "outputs": [],
   "source": [
    "z_points = a_points[:int(len(a_points)/4)]\n"
   ]
  },
  {
   "cell_type": "code",
   "execution_count": 22,
   "id": "aee0c408-e8cd-4da0-ba5c-3b358b6b5bd5",
   "metadata": {},
   "outputs": [
    {
     "data": {
      "image/png": "[encoded data removed]",
      "text/plain": [
       "<Figure size 576x360 with 1 Axes>"
      ]
     },
     "metadata": {
      "needs_background": "light"
     },
     "output_type": "display_data"
    }
   ],
   "source": [
    "# TEV\n",
    "predicted1 = 1 / (1 + np.exp(alpha1 * a_points + beta1))\n",
    "# TPV\n",
    "predicted2 = 1 / (1 + np.exp(alpha2 * a_points  + beta2))\n",
    "# TAC\n",
    "predicted3 = 1 / (1 + np.exp(alpha3 * a_points+ beta3))\n",
    "\n",
    "plt.figure(figsize = (8,5))\n",
    "plt.xlabel(\"Planned Duration (days)\",color = \"red\",alpha = 0.8)\n",
    "\n",
    "plt.scatter(a, scaler1.inverse_transform(b1_scaled.reshape(-1,1)))\n",
    "plt.scatter(a, scaler2.inverse_transform(b2_scaled.reshape(-1,1)))\n",
    "plt.scatter(a, scaler3.inverse_transform(b3_scaled.reshape(-1,1)))\n",
    "\n",
    "plt.plot(a_points[int(len(a_points)/4):], scaler1.inverse_transform(predicted1[int(len(a_points)/4):].reshape(-1,1)),label= \"TEV\",color=\"blue\" )\n",
    "plt.plot(a_points[int(len(a_points)/4):], scaler2.inverse_transform(predicted2[int(len(a_points)/4):].reshape(-1,1)),label = \"TPV\",color=\"orange\")\n",
    "plt.plot(a_points[int(len(a_points)/4):], scaler3.inverse_transform(predicted3[int(len(a_points)/4):].reshape(-1,1)),label=\"TAC\",color =\"green\")\n",
    "plt.plot([0,a_points[int(len(a_points)/34)],a_points[int(len(a_points)/4)]],model_TEV([0,a_points[int(len(a_points)/16)],a_points[int(len(a_points)/4)]]),color = 'blue',)\n",
    "plt.plot([0,a_points[int(len(a_points)/34)],a_points[int(len(a_points)/4)]],model_TPV([0,a_points[int(len(a_points)/16)],a_points[int(len(a_points)/4)]]),color = 'orange')\n",
    "plt.plot([0,a_points[int(len(a_points)/34)],a_points[int(len(a_points)/4)]],model_TAC([0,a_points[int(len(a_points)/16)],a_points[int(len(a_points)/4)]]),color = 'green')\n",
    "\n",
    "\n",
    "plt.title(\"Analysis\")\n",
    "plt.ylabel(\"(in $)\",color=\"red\")\n",
    "plt.legend()\n",
    "plt.savefig(\"output.jpg\")\n",
    "plt.show()"
   ]
  },
  {
   "cell_type": "code",
   "execution_count": 23,
   "id": "170b8760-260d-4af4-ac6f-b7e9e2b74640",
   "metadata": {},
   "outputs": [],
   "source": [
    "s1 = scaler1.inverse_transform(b1_scaled.reshape(-1,1))"
   ]
  },
  {
   "cell_type": "code",
   "execution_count": 24,
   "id": "a556c550",
   "metadata": {},
   "outputs": [],
   "source": [
    "f1curve = scaler1.inverse_transform(predicted1.reshape(-1,1))[int(len(a_points)/4),:]\n",
    "f2curve = scaler2.inverse_transform(predicted2.reshape(-1,1))[int(len(a_points)/4),:]\n",
    "f3curve = scaler3.inverse_transform(predicted3.reshape(-1,1))[int(len(a_points)/4),:]"
   ]
  },
  {
   "cell_type": "code",
   "execution_count": 25,
   "id": "f9fdc6de",
   "metadata": {
    "scrolled": true
   },
   "outputs": [
    {
     "name": "stderr",
     "output_type": "stream",
     "text": [
      "C:\\Users\\mahmo\\anaconda3\\lib\\site-packages\\IPython\\core\\interactiveshell.py:3437: RankWarning: Polyfit may be poorly conditioned\n",
      "  exec(code_obj, self.user_global_ns, self.user_ns)\n",
      "C:\\Users\\mahmo\\anaconda3\\lib\\site-packages\\IPython\\core\\interactiveshell.py:3437: RankWarning: Polyfit may be poorly conditioned\n",
      "  exec(code_obj, self.user_global_ns, self.user_ns)\n",
      "C:\\Users\\mahmo\\anaconda3\\lib\\site-packages\\IPython\\core\\interactiveshell.py:3437: RankWarning: Polyfit may be poorly conditioned\n",
      "  exec(code_obj, self.user_global_ns, self.user_ns)\n"
     ]
    }
   ],
   "source": [
    "model_TEV = np.poly1d(np.polyfit([0,a_points[int(len(a_points)/16)],a_points[int(len(a_points)/4)]],[0,f1curve[0]/16,f1curve[0]],5))\n",
    "model_TPV = np.poly1d(np.polyfit([0,a_points[int(len(a_points)/16)],a_points[int(len(a_points)/4)]],[0,f2curve[0]/16,f2curve[0]],5))\n",
    "model_TAC = np.poly1d(np.polyfit([0,a_points[int(len(a_points)/16)],a_points[int(len(a_points)/4)]],[0,f3curve[0]/16,f3curve[0]],5))"
   ]
  },
  {
   "cell_type": "code",
   "execution_count": 26,
   "id": "eba83705",
   "metadata": {},
   "outputs": [
    {
     "data": {
      "image/png": "[encoded data removed]",
      "text/plain": [
       "<Figure size 576x360 with 1 Axes>"
      ]
     },
     "metadata": {
      "needs_background": "light"
     },
     "output_type": "display_data"
    }
   ],
   "source": [
    "# TEV\n",
    "predicted1 = 1 / (1 + np.exp(alpha1 * a_points + beta1))\n",
    "# TPV\n",
    "predicted2 = 1 / (1 + np.exp(alpha2 * a_points  + beta2))\n",
    "# TAC\n",
    "predicted3 = 1 / (1 + np.exp(alpha3 * a_points+ beta3))\n",
    "\n",
    "plt.figure(figsize = (8,5))\n",
    "plt.xlabel(\"Planned Duration (days)\",color = \"red\",alpha = 0.8)\n",
    "\n",
    "plt.scatter(a, scaler1.inverse_transform(b1_scaled.reshape(-1,1)))\n",
    "plt.scatter(a, scaler2.inverse_transform(b2_scaled.reshape(-1,1)))\n",
    "plt.scatter(a, scaler3.inverse_transform(b3_scaled.reshape(-1,1)))\n",
    "\n",
    "plt.plot(a_points[int(len(a_points)/4):], scaler1.inverse_transform(predicted1[int(len(a_points)/4):].reshape(-1,1)),label= \"TEV\",color=\"blue\" )\n",
    "plt.plot(a_points[int(len(a_points)/4):], scaler2.inverse_transform(predicted2[int(len(a_points)/4):].reshape(-1,1)),label = \"TPV\",color=\"orange\")\n",
    "plt.plot(a_points[int(len(a_points)/4):], scaler3.inverse_transform(predicted3[int(len(a_points)/4):].reshape(-1,1)),label=\"TAC\",color =\"green\")\n",
    "plt.plot([0,a_points[int(len(a_points)/34)],a_points[int(len(a_points)/4)]],model_TEV([0,a_points[int(len(a_points)/16)],a_points[int(len(a_points)/4)]]),color = 'blue',)\n",
    "plt.plot([0,a_points[int(len(a_points)/34)],a_points[int(len(a_points)/4)]],model_TPV([0,a_points[int(len(a_points)/16)],a_points[int(len(a_points)/4)]]),color = 'orange')\n",
    "plt.plot([0,a_points[int(len(a_points)/34)],a_points[int(len(a_points)/4)]],model_TAC([0,a_points[int(len(a_points)/16)],a_points[int(len(a_points)/4)]]),color = 'green')\n",
    "\n",
    "\n",
    "plt.title(\"Analysis\")\n",
    "plt.ylabel(\"(in $)\",color=\"red\")\n",
    "plt.legend()\n",
    "plt.savefig(\"output.jpg\")\n",
    "plt.show()"
   ]
  },
  {
   "cell_type": "code",
   "execution_count": null,
   "id": "17e5c85a",
   "metadata": {},
   "outputs": [],
   "source": []
  }
 ],
 "metadata": {
  "kernelspec": {
   "display_name": "Python 3",
   "language": "python",
   "name": "python3"
  },
  "language_info": {
   "codemirror_mode": {
    "name": "ipython",
    "version": 3
   },
   "file_extension": ".py",
   "mimetype": "text/x-python",
   "name": "python",
   "nbconvert_exporter": "python",
   "pygments_lexer": "ipython3",
   "version": "3.8.8"
  }
 },
 "nbformat": 4,
 "nbformat_minor": 5
}
